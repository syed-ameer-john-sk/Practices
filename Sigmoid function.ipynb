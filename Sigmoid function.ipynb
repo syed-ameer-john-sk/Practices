{
 "cells": [
  {
   "cell_type": "code",
   "execution_count": 1,
   "id": "8558e3fa-1fa8-4934-af4f-57a7143bd5aa",
   "metadata": {},
   "outputs": [],
   "source": [
    "#f(x) = 1 / (1 + e^(-x))\n",
    "import numpy as np\n",
    "\n",
    "def sigmoid(x):\n",
    "    return 1 / (1 + np.exp(-x))\n"
   ]
  },
  {
   "cell_type": "code",
   "execution_count": 5,
   "id": "ff7a4876-2dca-4241-977a-8d5e23349a57",
   "metadata": {},
   "outputs": [
    {
     "data": {
      "text/plain": [
       "0.9820137900379085"
      ]
     },
     "execution_count": 5,
     "metadata": {},
     "output_type": "execute_result"
    }
   ],
   "source": [
    "sigmoid(4)"
   ]
  },
  {
   "cell_type": "code",
   "execution_count": 7,
   "id": "ae9e11d5-5733-4b98-8653-b6dacb2db0b0",
   "metadata": {},
   "outputs": [
    {
     "name": "stdout",
     "output_type": "stream",
     "text": [
      "0.8021838885585817\n"
     ]
    }
   ],
   "source": [
    "#p(y=1|x) = 1 / (1 + e^(-w*x))\n",
    "\n",
    "import numpy as np\n",
    "\n",
    "# Define the sigmoid function\n",
    "def sigmoid(x):\n",
    "    return 1 / (1 + np.exp(-x))\n",
    "\n",
    "# Define the logistic regression model\n",
    "def logistic_regression(x, w):\n",
    "    return sigmoid(np.dot(x, w))\n",
    "\n",
    "# Example input and weights\n",
    "x = np.array([1, 2, 3])\n",
    "w = np.array([0.1, 0.2, 0.3])\n",
    "\n",
    "# Compute the probability of y=1 for the given input and weights\n",
    "prob = logistic_regression(x, w)\n",
    "\n",
    "print(prob)"
   ]
  },
  {
   "cell_type": "code",
   "execution_count": null,
   "id": "6c9f37c9-798a-4b7a-b260-9272c1fdf594",
   "metadata": {},
   "outputs": [],
   "source": []
  }
 ],
 "metadata": {
  "kernelspec": {
   "display_name": "Python 3 (ipykernel)",
   "language": "python",
   "name": "python3"
  },
  "language_info": {
   "codemirror_mode": {
    "name": "ipython",
    "version": 3
   },
   "file_extension": ".py",
   "mimetype": "text/x-python",
   "name": "python",
   "nbconvert_exporter": "python",
   "pygments_lexer": "ipython3",
   "version": "3.10.6"
  }
 },
 "nbformat": 4,
 "nbformat_minor": 5
}
